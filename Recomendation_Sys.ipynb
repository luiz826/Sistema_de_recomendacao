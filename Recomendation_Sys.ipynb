{
  "nbformat": 4,
  "nbformat_minor": 0,
  "metadata": {
    "kernelspec": {
      "display_name": "Python 3",
      "language": "python",
      "name": "python3"
    },
    "language_info": {
      "codemirror_mode": {
        "name": "ipython",
        "version": 3
      },
      "file_extension": ".py",
      "mimetype": "text/x-python",
      "name": "python",
      "nbconvert_exporter": "python",
      "pygments_lexer": "ipython3",
      "version": "3.8.3"
    },
    "colab": {
      "name": "Recomendation Sys.ipynb",
      "provenance": [],
      "collapsed_sections": [
        "XFXt9asOlHNq",
        "dXX8RDv8lNyW",
        "pAqFSO0BlRLg",
        "AkQXWBj7mFYG"
      ],
      "include_colab_link": true
    }
  },
  "cells": [
    {
      "cell_type": "markdown",
      "metadata": {
        "id": "view-in-github",
        "colab_type": "text"
      },
      "source": [
        "<a href=\"https://colab.research.google.com/github/luiz826/Sistema_de_recomendacao/blob/main/Recomendation_Sys.ipynb\" target=\"_parent\"><img src=\"https://colab.research.google.com/assets/colab-badge.svg\" alt=\"Open In Colab\"/></a>"
      ]
    },
    {
      "cell_type": "markdown",
      "metadata": {
        "id": "XFXt9asOlHNq"
      },
      "source": [
        "# Sistema de Recomendação para filmes da netflix\n",
        "\n",
        "<img src=\"https://i2.wp.com/tvrev.com/wp-content/uploads/2020/02/thibault-penin-AWOl7qqsffM-unsplash-scaled.jpg?fit=2560%2C1709&ssl=1\"> "
      ]
    },
    {
      "cell_type": "markdown",
      "metadata": {
        "id": "dXX8RDv8lNyW"
      },
      "source": [
        "### Importação das bibliotecas"
      ]
    },
    {
      "cell_type": "code",
      "metadata": {
        "id": "w4My5S77iaA4"
      },
      "source": [
        "import numpy as np\n",
        "import pandas as pd\n",
        "from sklearn.metrics.pairwise import cosine_similarity\n",
        "from sklearn.feature_extraction.text import CountVectorizer"
      ],
      "execution_count": 1,
      "outputs": []
    },
    {
      "cell_type": "code",
      "metadata": {
        "id": "FMscXzb9iaBE"
      },
      "source": [
        "df = pd.read_csv(\"https://raw.githubusercontent.com/luiz826/Site_Sistema_de_recomendacao/main/netflix_titles.csv\")"
      ],
      "execution_count": 2,
      "outputs": []
    },
    {
      "cell_type": "code",
      "metadata": {
        "colab": {
          "base_uri": "https://localhost:8080/",
          "height": 380
        },
        "id": "F_90sTgMiaBF",
        "outputId": "1f59aa51-c756-4c5d-d62a-bc8ed0c2b23a"
      },
      "source": [
        "df.head()"
      ],
      "execution_count": 3,
      "outputs": [
        {
          "output_type": "execute_result",
          "data": {
            "text/html": [
              "<div>\n",
              "<style scoped>\n",
              "    .dataframe tbody tr th:only-of-type {\n",
              "        vertical-align: middle;\n",
              "    }\n",
              "\n",
              "    .dataframe tbody tr th {\n",
              "        vertical-align: top;\n",
              "    }\n",
              "\n",
              "    .dataframe thead th {\n",
              "        text-align: right;\n",
              "    }\n",
              "</style>\n",
              "<table border=\"1\" class=\"dataframe\">\n",
              "  <thead>\n",
              "    <tr style=\"text-align: right;\">\n",
              "      <th></th>\n",
              "      <th>show_id</th>\n",
              "      <th>type</th>\n",
              "      <th>title</th>\n",
              "      <th>director</th>\n",
              "      <th>cast</th>\n",
              "      <th>country</th>\n",
              "      <th>date_added</th>\n",
              "      <th>release_year</th>\n",
              "      <th>rating</th>\n",
              "      <th>duration</th>\n",
              "      <th>listed_in</th>\n",
              "      <th>description</th>\n",
              "    </tr>\n",
              "  </thead>\n",
              "  <tbody>\n",
              "    <tr>\n",
              "      <th>0</th>\n",
              "      <td>s1</td>\n",
              "      <td>TV Show</td>\n",
              "      <td>3%</td>\n",
              "      <td>NaN</td>\n",
              "      <td>João Miguel, Bianca Comparato, Michel Gomes, R...</td>\n",
              "      <td>Brazil</td>\n",
              "      <td>August 14, 2020</td>\n",
              "      <td>2020</td>\n",
              "      <td>TV-MA</td>\n",
              "      <td>4 Seasons</td>\n",
              "      <td>International TV Shows, TV Dramas, TV Sci-Fi &amp;...</td>\n",
              "      <td>In a future where the elite inhabit an island ...</td>\n",
              "    </tr>\n",
              "    <tr>\n",
              "      <th>1</th>\n",
              "      <td>s2</td>\n",
              "      <td>Movie</td>\n",
              "      <td>7:19</td>\n",
              "      <td>Jorge Michel Grau</td>\n",
              "      <td>Demián Bichir, Héctor Bonilla, Oscar Serrano, ...</td>\n",
              "      <td>Mexico</td>\n",
              "      <td>December 23, 2016</td>\n",
              "      <td>2016</td>\n",
              "      <td>TV-MA</td>\n",
              "      <td>93 min</td>\n",
              "      <td>Dramas, International Movies</td>\n",
              "      <td>After a devastating earthquake hits Mexico Cit...</td>\n",
              "    </tr>\n",
              "    <tr>\n",
              "      <th>2</th>\n",
              "      <td>s3</td>\n",
              "      <td>Movie</td>\n",
              "      <td>23:59</td>\n",
              "      <td>Gilbert Chan</td>\n",
              "      <td>Tedd Chan, Stella Chung, Henley Hii, Lawrence ...</td>\n",
              "      <td>Singapore</td>\n",
              "      <td>December 20, 2018</td>\n",
              "      <td>2011</td>\n",
              "      <td>R</td>\n",
              "      <td>78 min</td>\n",
              "      <td>Horror Movies, International Movies</td>\n",
              "      <td>When an army recruit is found dead, his fellow...</td>\n",
              "    </tr>\n",
              "    <tr>\n",
              "      <th>3</th>\n",
              "      <td>s4</td>\n",
              "      <td>Movie</td>\n",
              "      <td>9</td>\n",
              "      <td>Shane Acker</td>\n",
              "      <td>Elijah Wood, John C. Reilly, Jennifer Connelly...</td>\n",
              "      <td>United States</td>\n",
              "      <td>November 16, 2017</td>\n",
              "      <td>2009</td>\n",
              "      <td>PG-13</td>\n",
              "      <td>80 min</td>\n",
              "      <td>Action &amp; Adventure, Independent Movies, Sci-Fi...</td>\n",
              "      <td>In a postapocalyptic world, rag-doll robots hi...</td>\n",
              "    </tr>\n",
              "    <tr>\n",
              "      <th>4</th>\n",
              "      <td>s5</td>\n",
              "      <td>Movie</td>\n",
              "      <td>21</td>\n",
              "      <td>Robert Luketic</td>\n",
              "      <td>Jim Sturgess, Kevin Spacey, Kate Bosworth, Aar...</td>\n",
              "      <td>United States</td>\n",
              "      <td>January 1, 2020</td>\n",
              "      <td>2008</td>\n",
              "      <td>PG-13</td>\n",
              "      <td>123 min</td>\n",
              "      <td>Dramas</td>\n",
              "      <td>A brilliant group of students become card-coun...</td>\n",
              "    </tr>\n",
              "  </tbody>\n",
              "</table>\n",
              "</div>"
            ],
            "text/plain": [
              "  show_id  ...                                        description\n",
              "0      s1  ...  In a future where the elite inhabit an island ...\n",
              "1      s2  ...  After a devastating earthquake hits Mexico Cit...\n",
              "2      s3  ...  When an army recruit is found dead, his fellow...\n",
              "3      s4  ...  In a postapocalyptic world, rag-doll robots hi...\n",
              "4      s5  ...  A brilliant group of students become card-coun...\n",
              "\n",
              "[5 rows x 12 columns]"
            ]
          },
          "metadata": {
            "tags": []
          },
          "execution_count": 3
        }
      ]
    },
    {
      "cell_type": "markdown",
      "metadata": {
        "id": "pAqFSO0BlRLg"
      },
      "source": [
        "### Pré-processamento dos dados"
      ]
    },
    {
      "cell_type": "markdown",
      "metadata": {
        "id": "-QkrZ1yjlVam"
      },
      "source": [
        "##### Selecionando apenas os filmes e as colunas mais importantes"
      ]
    },
    {
      "cell_type": "code",
      "metadata": {
        "id": "hD4TGHpyiaBI"
      },
      "source": [
        "mov = df.query(\"type == 'Movie'\")"
      ],
      "execution_count": 4,
      "outputs": []
    },
    {
      "cell_type": "code",
      "metadata": {
        "id": "uyfgQT2UiaBJ"
      },
      "source": [
        "movies = mov[[\"title\", \"director\", \"cast\", \"country\", \"rating\", \"listed_in\"]].reset_index()\n",
        "movies[\"title\"] = movies[\"title\"].apply(lambda x: x.lower())"
      ],
      "execution_count": 5,
      "outputs": []
    },
    {
      "cell_type": "markdown",
      "metadata": {
        "id": "_9x4lMQglkoO"
      },
      "source": [
        "##### Essa função serve para binarizar as palavras "
      ]
    },
    {
      "cell_type": "code",
      "metadata": {
        "id": "OPbWgTRfiaBL"
      },
      "source": [
        "def binariza(col, classe):\n",
        "    classe[col] = classe[col].fillna(\"Not Informed\")\n",
        "    \n",
        "    lista = []\n",
        "    for i in classe[col]:\n",
        "        lista_aux = i.split(\",\")\n",
        "        for j in lista_aux:\n",
        "            lista.append(j)\n",
        "\n",
        "    lista_sort = sorted(set(lista))\n",
        "\n",
        "    binary_lista = [[0] * 0 for i in range(len(set(lista)))]\n",
        "\n",
        "    for i in classe[col]:\n",
        "        c = 0\n",
        "        for j in lista_sort:\n",
        "            if j in i:\n",
        "                binary_lista[c].append(1.0)\n",
        "            else:\n",
        "                binary_lista[c].append(0.0)\n",
        "            c+=1\n",
        "\n",
        "    return pd.DataFrame(binary_lista).T"
      ],
      "execution_count": 6,
      "outputs": []
    },
    {
      "cell_type": "code",
      "metadata": {
        "id": "BCYUIgr-iaBN"
      },
      "source": [
        "bin_actors = binariza(\"cast\", movies)"
      ],
      "execution_count": 7,
      "outputs": []
    },
    {
      "cell_type": "code",
      "metadata": {
        "id": "K7Va5RkriaBN"
      },
      "source": [
        "bin_director = binariza(\"director\", movies)"
      ],
      "execution_count": 8,
      "outputs": []
    },
    {
      "cell_type": "code",
      "metadata": {
        "id": "RRff_V_ViaBO"
      },
      "source": [
        "bin_country = binariza(\"country\", movies)"
      ],
      "execution_count": 9,
      "outputs": []
    },
    {
      "cell_type": "code",
      "metadata": {
        "id": "HCtmbtx7iaBO"
      },
      "source": [
        "bin_rating = binariza(\"rating\", movies)"
      ],
      "execution_count": 10,
      "outputs": []
    },
    {
      "cell_type": "code",
      "metadata": {
        "id": "4f39O2UwiaBQ"
      },
      "source": [
        "bin_listed_in = binariza(\"listed_in\", movies)"
      ],
      "execution_count": 11,
      "outputs": []
    },
    {
      "cell_type": "markdown",
      "metadata": {
        "id": "zv1gZE5wl6MQ"
      },
      "source": [
        "##### Neste momento eu faço a concatenação das colunas e utilizo a similaridade de cossenos para encontrar a similaridade entre os binários"
      ]
    },
    {
      "cell_type": "code",
      "metadata": {
        "id": "PI8EorkziaBQ"
      },
      "source": [
        "bin_df = pd.concat([bin_actors, bin_director, bin_country, bin_rating, bin_listed_in], axis=1, ignore_index=True)"
      ],
      "execution_count": 12,
      "outputs": []
    },
    {
      "cell_type": "code",
      "metadata": {
        "id": "PpXeXCEniaBR"
      },
      "source": [
        "cs_df = pd.DataFrame(cosine_similarity(bin_df))"
      ],
      "execution_count": 13,
      "outputs": []
    },
    {
      "cell_type": "markdown",
      "metadata": {
        "id": "AkQXWBj7mFYG"
      },
      "source": [
        "### Definindo a função para gerar recomendações"
      ]
    },
    {
      "cell_type": "code",
      "metadata": {
        "id": "RUbq2u23iaBS"
      },
      "source": [
        "def recomendation(movie, n=5):\n",
        "    movie = movie.lower()\n",
        "\n",
        "    if movie in movies[\"title\"].values:\n",
        "        idm = movies.loc[movies[\"title\"] == movie].index.item()\n",
        "        rm = cs_df[idm].sort_values(ascending=False).head(n+1)[1:]\n",
        "        movies_c = movies.copy()\n",
        "        movies_c[\"CS\"] = cs_df[idm].sort_values(ascending=False)\n",
        "        return movies_c.iloc[list(rm.index)]\n",
        "    \n",
        "    print(\"Esse filme não está na base de dados...\\n\")\n",
        "    print(\"Ou você quis dizer: \", end=\"\")\n",
        "    for i in movies[\"title\"].values:\n",
        "        if movie in i:\n",
        "            print(i)\n",
        "    "
      ],
      "execution_count": 26,
      "outputs": []
    },
    {
      "cell_type": "markdown",
      "metadata": {
        "id": "_yLjChgxoh1P"
      },
      "source": [
        "##### Alguns exemplos"
      ]
    },
    {
      "cell_type": "code",
      "metadata": {
        "colab": {
          "base_uri": "https://localhost:8080/",
          "height": 391
        },
        "id": "ELY8Y7xciaBT",
        "outputId": "1223765d-657f-41b5-d870-8b71be5c896c"
      },
      "source": [
        "recomendation(\"Tom and Jerry: The Magic Ring\", 7)"
      ],
      "execution_count": 20,
      "outputs": [
        {
          "output_type": "execute_result",
          "data": {
            "text/html": [
              "<div>\n",
              "<style scoped>\n",
              "    .dataframe tbody tr th:only-of-type {\n",
              "        vertical-align: middle;\n",
              "    }\n",
              "\n",
              "    .dataframe tbody tr th {\n",
              "        vertical-align: top;\n",
              "    }\n",
              "\n",
              "    .dataframe thead th {\n",
              "        text-align: right;\n",
              "    }\n",
              "</style>\n",
              "<table border=\"1\" class=\"dataframe\">\n",
              "  <thead>\n",
              "    <tr style=\"text-align: right;\">\n",
              "      <th></th>\n",
              "      <th>index</th>\n",
              "      <th>title</th>\n",
              "      <th>director</th>\n",
              "      <th>cast</th>\n",
              "      <th>country</th>\n",
              "      <th>rating</th>\n",
              "      <th>listed_in</th>\n",
              "      <th>CS</th>\n",
              "    </tr>\n",
              "  </thead>\n",
              "  <tbody>\n",
              "    <tr>\n",
              "      <th>2573</th>\n",
              "      <td>3672</td>\n",
              "      <td>little singham: kaal ki tabaahi</td>\n",
              "      <td>Prakash Satam</td>\n",
              "      <td>Not Informed</td>\n",
              "      <td>Not Informed</td>\n",
              "      <td>TV-Y7</td>\n",
              "      <td>Children &amp; Family Movies, Comedies</td>\n",
              "      <td>0.632456</td>\n",
              "    </tr>\n",
              "    <tr>\n",
              "      <th>2571</th>\n",
              "      <td>3670</td>\n",
              "      <td>little singham in london</td>\n",
              "      <td>Prakash Satam</td>\n",
              "      <td>Not Informed</td>\n",
              "      <td>Not Informed</td>\n",
              "      <td>TV-Y7</td>\n",
              "      <td>Children &amp; Family Movies, Comedies</td>\n",
              "      <td>0.632456</td>\n",
              "    </tr>\n",
              "    <tr>\n",
              "      <th>2574</th>\n",
              "      <td>3673</td>\n",
              "      <td>little singham: legend of dugabakka</td>\n",
              "      <td>Not Informed</td>\n",
              "      <td>Not Informed</td>\n",
              "      <td>Not Informed</td>\n",
              "      <td>TV-Y7</td>\n",
              "      <td>Children &amp; Family Movies, Comedies</td>\n",
              "      <td>0.632456</td>\n",
              "    </tr>\n",
              "    <tr>\n",
              "      <th>2569</th>\n",
              "      <td>3668</td>\n",
              "      <td>little singham aur kaal ka mahajaal</td>\n",
              "      <td>Prakash Satam</td>\n",
              "      <td>Not Informed</td>\n",
              "      <td>Not Informed</td>\n",
              "      <td>TV-Y7-FV</td>\n",
              "      <td>Children &amp; Family Movies, Comedies</td>\n",
              "      <td>0.603023</td>\n",
              "    </tr>\n",
              "    <tr>\n",
              "      <th>1508</th>\n",
              "      <td>2157</td>\n",
              "      <td>figaro pho</td>\n",
              "      <td>Luke Jurevicius</td>\n",
              "      <td>Luke Jurevicius</td>\n",
              "      <td>United Kingdom</td>\n",
              "      <td>TV-Y7</td>\n",
              "      <td>Children &amp; Family Movies, Comedies</td>\n",
              "      <td>0.553399</td>\n",
              "    </tr>\n",
              "    <tr>\n",
              "      <th>2575</th>\n",
              "      <td>3674</td>\n",
              "      <td>little singham: mahabali</td>\n",
              "      <td>Prakash Satam</td>\n",
              "      <td>Saumya Daan, Sonal Kaushal, Anamaya Verma, Gan...</td>\n",
              "      <td>Not Informed</td>\n",
              "      <td>TV-Y7</td>\n",
              "      <td>Children &amp; Family Movies, Comedies</td>\n",
              "      <td>0.500000</td>\n",
              "    </tr>\n",
              "    <tr>\n",
              "      <th>2949</th>\n",
              "      <td>4241</td>\n",
              "      <td>motu patlu: king of kings</td>\n",
              "      <td>Suhas Kadav</td>\n",
              "      <td>Saurav Chakrabarty, Vinay Pathak</td>\n",
              "      <td>India</td>\n",
              "      <td>TV-Y7-FV</td>\n",
              "      <td>Children &amp; Family Movies, Comedies</td>\n",
              "      <td>0.485363</td>\n",
              "    </tr>\n",
              "  </tbody>\n",
              "</table>\n",
              "</div>"
            ],
            "text/plain": [
              "      index  ...        CS\n",
              "2573   3672  ...  0.632456\n",
              "2571   3670  ...  0.632456\n",
              "2574   3673  ...  0.632456\n",
              "2569   3668  ...  0.603023\n",
              "1508   2157  ...  0.553399\n",
              "2575   3674  ...  0.500000\n",
              "2949   4241  ...  0.485363\n",
              "\n",
              "[7 rows x 8 columns]"
            ]
          },
          "metadata": {
            "tags": []
          },
          "execution_count": 20
        }
      ]
    },
    {
      "cell_type": "code",
      "metadata": {
        "colab": {
          "base_uri": "https://localhost:8080/",
          "height": 293
        },
        "id": "MhzomXotiaBU",
        "outputId": "3577d188-4b58-458d-e384-ffdee4ef7671"
      },
      "source": [
        "recomendation(\"Pulp Fiction\")"
      ],
      "execution_count": 21,
      "outputs": [
        {
          "output_type": "execute_result",
          "data": {
            "text/html": [
              "<div>\n",
              "<style scoped>\n",
              "    .dataframe tbody tr th:only-of-type {\n",
              "        vertical-align: middle;\n",
              "    }\n",
              "\n",
              "    .dataframe tbody tr th {\n",
              "        vertical-align: top;\n",
              "    }\n",
              "\n",
              "    .dataframe thead th {\n",
              "        text-align: right;\n",
              "    }\n",
              "</style>\n",
              "<table border=\"1\" class=\"dataframe\">\n",
              "  <thead>\n",
              "    <tr style=\"text-align: right;\">\n",
              "      <th></th>\n",
              "      <th>index</th>\n",
              "      <th>title</th>\n",
              "      <th>director</th>\n",
              "      <th>cast</th>\n",
              "      <th>country</th>\n",
              "      <th>rating</th>\n",
              "      <th>listed_in</th>\n",
              "      <th>CS</th>\n",
              "    </tr>\n",
              "  </thead>\n",
              "  <tbody>\n",
              "    <tr>\n",
              "      <th>3326</th>\n",
              "      <td>4776</td>\n",
              "      <td>paris is burning</td>\n",
              "      <td>Jennie Livingston</td>\n",
              "      <td>Not Informed</td>\n",
              "      <td>United States</td>\n",
              "      <td>R</td>\n",
              "      <td>Classic Movies, Cult Movies, Documentaries</td>\n",
              "      <td>0.422116</td>\n",
              "    </tr>\n",
              "    <tr>\n",
              "      <th>131</th>\n",
              "      <td>165</td>\n",
              "      <td>a clockwork orange</td>\n",
              "      <td>Stanley Kubrick</td>\n",
              "      <td>Malcolm McDowell, Patrick Magee, Michael Bates...</td>\n",
              "      <td>United Kingdom, United States</td>\n",
              "      <td>R</td>\n",
              "      <td>Classic Movies, Cult Movies, Dramas</td>\n",
              "      <td>0.402492</td>\n",
              "    </tr>\n",
              "    <tr>\n",
              "      <th>940</th>\n",
              "      <td>1288</td>\n",
              "      <td>chasing amy</td>\n",
              "      <td>Kevin Smith</td>\n",
              "      <td>Ben Affleck, Joey Lauren Adams, Jason Lee, Dwi...</td>\n",
              "      <td>United States</td>\n",
              "      <td>R</td>\n",
              "      <td>Comedies, Cult Movies, Dramas</td>\n",
              "      <td>0.377124</td>\n",
              "    </tr>\n",
              "    <tr>\n",
              "      <th>2795</th>\n",
              "      <td>4008</td>\n",
              "      <td>mean streets</td>\n",
              "      <td>Martin Scorsese</td>\n",
              "      <td>Robert De Niro, Harvey Keitel, David Proval, A...</td>\n",
              "      <td>United States</td>\n",
              "      <td>R</td>\n",
              "      <td>Classic Movies, Dramas, Independent Movies</td>\n",
              "      <td>0.367065</td>\n",
              "    </tr>\n",
              "    <tr>\n",
              "      <th>5258</th>\n",
              "      <td>7609</td>\n",
              "      <td>who's that knocking at my door?</td>\n",
              "      <td>Martin Scorsese</td>\n",
              "      <td>Zina Bethune, Harvey Keitel, Anne Collette, Le...</td>\n",
              "      <td>United States</td>\n",
              "      <td>R</td>\n",
              "      <td>Classic Movies, Dramas, Independent Movies</td>\n",
              "      <td>0.367065</td>\n",
              "    </tr>\n",
              "  </tbody>\n",
              "</table>\n",
              "</div>"
            ],
            "text/plain": [
              "      index  ...        CS\n",
              "3326   4776  ...  0.422116\n",
              "131     165  ...  0.402492\n",
              "940    1288  ...  0.377124\n",
              "2795   4008  ...  0.367065\n",
              "5258   7609  ...  0.367065\n",
              "\n",
              "[5 rows x 8 columns]"
            ]
          },
          "metadata": {
            "tags": []
          },
          "execution_count": 21
        }
      ]
    },
    {
      "cell_type": "code",
      "metadata": {
        "colab": {
          "base_uri": "https://localhost:8080/",
          "height": 112
        },
        "id": "yBkrAxk9kpIg",
        "outputId": "2ce5c587-b560-4094-e861-abe578d93bed"
      },
      "source": [
        "recomendation(\"The Two Popes\", 2)"
      ],
      "execution_count": 22,
      "outputs": [
        {
          "output_type": "execute_result",
          "data": {
            "text/html": [
              "<div>\n",
              "<style scoped>\n",
              "    .dataframe tbody tr th:only-of-type {\n",
              "        vertical-align: middle;\n",
              "    }\n",
              "\n",
              "    .dataframe tbody tr th {\n",
              "        vertical-align: top;\n",
              "    }\n",
              "\n",
              "    .dataframe thead th {\n",
              "        text-align: right;\n",
              "    }\n",
              "</style>\n",
              "<table border=\"1\" class=\"dataframe\">\n",
              "  <thead>\n",
              "    <tr style=\"text-align: right;\">\n",
              "      <th></th>\n",
              "      <th>index</th>\n",
              "      <th>title</th>\n",
              "      <th>director</th>\n",
              "      <th>cast</th>\n",
              "      <th>country</th>\n",
              "      <th>rating</th>\n",
              "      <th>listed_in</th>\n",
              "      <th>CS</th>\n",
              "    </tr>\n",
              "  </thead>\n",
              "  <tbody>\n",
              "    <tr>\n",
              "      <th>1069</th>\n",
              "      <td>1501</td>\n",
              "      <td>cops and robbers</td>\n",
              "      <td>Arnon Manor, Timothy Ware-Hill</td>\n",
              "      <td>Timothy Ware-Hill</td>\n",
              "      <td>United States</td>\n",
              "      <td>PG-13</td>\n",
              "      <td>Dramas</td>\n",
              "      <td>0.481125</td>\n",
              "    </tr>\n",
              "    <tr>\n",
              "      <th>1937</th>\n",
              "      <td>2794</td>\n",
              "      <td>honey: rise up and dance</td>\n",
              "      <td>Bille Woodruff</td>\n",
              "      <td>Teyana Taylor, Sierra Aylina McClain, Bryshere...</td>\n",
              "      <td>United States</td>\n",
              "      <td>PG-13</td>\n",
              "      <td>Dramas</td>\n",
              "      <td>0.456435</td>\n",
              "    </tr>\n",
              "  </tbody>\n",
              "</table>\n",
              "</div>"
            ],
            "text/plain": [
              "      index                     title  ... listed_in        CS\n",
              "1069   1501          cops and robbers  ...    Dramas  0.481125\n",
              "1937   2794  honey: rise up and dance  ...    Dramas  0.456435\n",
              "\n",
              "[2 rows x 8 columns]"
            ]
          },
          "metadata": {
            "tags": []
          },
          "execution_count": 22
        }
      ]
    },
    {
      "cell_type": "markdown",
      "metadata": {
        "id": "zB4brpZGo2sc"
      },
      "source": [
        "# APP"
      ]
    },
    {
      "cell_type": "code",
      "metadata": {
        "id": "0qrMk_nKmTdv"
      },
      "source": [
        "#@title Aplicação\n",
        "#@markdown Digite o nome do filme abaixo (em inglês)\n",
        "\n",
        "Filme = 'pulp fiction' #@param {type:\"string\"}\n",
        "Numero_de_Recomendacoes = 10 #@param {type:\"number\"}"
      ],
      "execution_count": 33,
      "outputs": []
    },
    {
      "cell_type": "code",
      "metadata": {
        "colab": {
          "base_uri": "https://localhost:8080/",
          "height": 537
        },
        "id": "pl_UmkDSnFxz",
        "outputId": "243cb230-bb16-41dc-93ba-1d86309784b7"
      },
      "source": [
        "recomendation(Filme, Numero_de_Recomendacoes)"
      ],
      "execution_count": 34,
      "outputs": [
        {
          "output_type": "execute_result",
          "data": {
            "text/html": [
              "<div>\n",
              "<style scoped>\n",
              "    .dataframe tbody tr th:only-of-type {\n",
              "        vertical-align: middle;\n",
              "    }\n",
              "\n",
              "    .dataframe tbody tr th {\n",
              "        vertical-align: top;\n",
              "    }\n",
              "\n",
              "    .dataframe thead th {\n",
              "        text-align: right;\n",
              "    }\n",
              "</style>\n",
              "<table border=\"1\" class=\"dataframe\">\n",
              "  <thead>\n",
              "    <tr style=\"text-align: right;\">\n",
              "      <th></th>\n",
              "      <th>index</th>\n",
              "      <th>title</th>\n",
              "      <th>director</th>\n",
              "      <th>cast</th>\n",
              "      <th>country</th>\n",
              "      <th>rating</th>\n",
              "      <th>listed_in</th>\n",
              "      <th>CS</th>\n",
              "    </tr>\n",
              "  </thead>\n",
              "  <tbody>\n",
              "    <tr>\n",
              "      <th>3326</th>\n",
              "      <td>4776</td>\n",
              "      <td>paris is burning</td>\n",
              "      <td>Jennie Livingston</td>\n",
              "      <td>Not Informed</td>\n",
              "      <td>United States</td>\n",
              "      <td>R</td>\n",
              "      <td>Classic Movies, Cult Movies, Documentaries</td>\n",
              "      <td>0.422116</td>\n",
              "    </tr>\n",
              "    <tr>\n",
              "      <th>131</th>\n",
              "      <td>165</td>\n",
              "      <td>a clockwork orange</td>\n",
              "      <td>Stanley Kubrick</td>\n",
              "      <td>Malcolm McDowell, Patrick Magee, Michael Bates...</td>\n",
              "      <td>United Kingdom, United States</td>\n",
              "      <td>R</td>\n",
              "      <td>Classic Movies, Cult Movies, Dramas</td>\n",
              "      <td>0.402492</td>\n",
              "    </tr>\n",
              "    <tr>\n",
              "      <th>940</th>\n",
              "      <td>1288</td>\n",
              "      <td>chasing amy</td>\n",
              "      <td>Kevin Smith</td>\n",
              "      <td>Ben Affleck, Joey Lauren Adams, Jason Lee, Dwi...</td>\n",
              "      <td>United States</td>\n",
              "      <td>R</td>\n",
              "      <td>Comedies, Cult Movies, Dramas</td>\n",
              "      <td>0.377124</td>\n",
              "    </tr>\n",
              "    <tr>\n",
              "      <th>2795</th>\n",
              "      <td>4008</td>\n",
              "      <td>mean streets</td>\n",
              "      <td>Martin Scorsese</td>\n",
              "      <td>Robert De Niro, Harvey Keitel, David Proval, A...</td>\n",
              "      <td>United States</td>\n",
              "      <td>R</td>\n",
              "      <td>Classic Movies, Dramas, Independent Movies</td>\n",
              "      <td>0.367065</td>\n",
              "    </tr>\n",
              "    <tr>\n",
              "      <th>5258</th>\n",
              "      <td>7609</td>\n",
              "      <td>who's that knocking at my door?</td>\n",
              "      <td>Martin Scorsese</td>\n",
              "      <td>Zina Bethune, Harvey Keitel, Anne Collette, Le...</td>\n",
              "      <td>United States</td>\n",
              "      <td>R</td>\n",
              "      <td>Classic Movies, Dramas, Independent Movies</td>\n",
              "      <td>0.367065</td>\n",
              "    </tr>\n",
              "    <tr>\n",
              "      <th>4166</th>\n",
              "      <td>5994</td>\n",
              "      <td>taxi driver</td>\n",
              "      <td>Martin Scorsese</td>\n",
              "      <td>Robert De Niro, Jodie Foster, Cybill Shepherd,...</td>\n",
              "      <td>United States</td>\n",
              "      <td>R</td>\n",
              "      <td>Classic Movies, Dramas, Thrillers</td>\n",
              "      <td>0.341121</td>\n",
              "    </tr>\n",
              "    <tr>\n",
              "      <th>3521</th>\n",
              "      <td>5070</td>\n",
              "      <td>rain man</td>\n",
              "      <td>Barry Levinson</td>\n",
              "      <td>Dustin Hoffman, Tom Cruise, Valeria Golino, Ge...</td>\n",
              "      <td>United States</td>\n",
              "      <td>R</td>\n",
              "      <td>Classic Movies, Dramas</td>\n",
              "      <td>0.339550</td>\n",
              "    </tr>\n",
              "    <tr>\n",
              "      <th>4018</th>\n",
              "      <td>5770</td>\n",
              "      <td>spring breakers</td>\n",
              "      <td>Harmony Korine</td>\n",
              "      <td>James Franco, Vanessa Hudgens, Selena Gomez, A...</td>\n",
              "      <td>United States, France</td>\n",
              "      <td>R</td>\n",
              "      <td>Comedies, Cult Movies, Dramas</td>\n",
              "      <td>0.333623</td>\n",
              "    </tr>\n",
              "    <tr>\n",
              "      <th>878</th>\n",
              "      <td>1203</td>\n",
              "      <td>canvas</td>\n",
              "      <td>Frank E. Abney III</td>\n",
              "      <td>Not Informed</td>\n",
              "      <td>United States</td>\n",
              "      <td>G</td>\n",
              "      <td>Children &amp; Family Movies, Dramas</td>\n",
              "      <td>0.333333</td>\n",
              "    </tr>\n",
              "    <tr>\n",
              "      <th>4654</th>\n",
              "      <td>6722</td>\n",
              "      <td>the one i love</td>\n",
              "      <td>Charlie McDowell</td>\n",
              "      <td>Mark Duplass, Elisabeth Moss, Ted Danson</td>\n",
              "      <td>United States</td>\n",
              "      <td>R</td>\n",
              "      <td>Comedies, Dramas, Independent Movies</td>\n",
              "      <td>0.332820</td>\n",
              "    </tr>\n",
              "  </tbody>\n",
              "</table>\n",
              "</div>"
            ],
            "text/plain": [
              "      index  ...        CS\n",
              "3326   4776  ...  0.422116\n",
              "131     165  ...  0.402492\n",
              "940    1288  ...  0.377124\n",
              "2795   4008  ...  0.367065\n",
              "5258   7609  ...  0.367065\n",
              "4166   5994  ...  0.341121\n",
              "3521   5070  ...  0.339550\n",
              "4018   5770  ...  0.333623\n",
              "878    1203  ...  0.333333\n",
              "4654   6722  ...  0.332820\n",
              "\n",
              "[10 rows x 8 columns]"
            ]
          },
          "metadata": {
            "tags": []
          },
          "execution_count": 34
        }
      ]
    },
    {
      "cell_type": "code",
      "metadata": {
        "id": "fMMK4WIGpGpw"
      },
      "source": [
        ""
      ],
      "execution_count": null,
      "outputs": []
    }
  ]
}